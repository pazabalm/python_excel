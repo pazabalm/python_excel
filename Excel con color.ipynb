{
 "cells": [
  {
   "cell_type": "code",
   "execution_count": 3,
   "id": "1e534c71",
   "metadata": {},
   "outputs": [
    {
     "name": "stdout",
     "output_type": "stream",
     "text": [
      "C://Users//pmuti//Desktop//BCI//000 Tests PM//Formato KNIME Python con Excel//Test con Python.xls\n"
     ]
    }
   ],
   "source": [
    "import xlsxwriter\n",
    "import xlrd\n",
    "import os\n",
    "import pandas as pd\n",
    "\n",
    "Ruta=\"C://Users//pmuti//Desktop//BCI//000 Tests PM//Formato KNIME Python con Excel//Test con Python.xls\"\n",
    "RutaSinNombre=\"C://Users//pmuti//Desktop//BCI//000 Tests PM//Formato KNIME Python con Excel//\"\n",
    "pd.read_excel(Ruta, index_col=0)\n",
    "\n",
    "print (Ruta)"
   ]
  },
  {
   "cell_type": "code",
   "execution_count": 38,
   "id": "09244c96",
   "metadata": {},
   "outputs": [],
   "source": [
    "wb = xlrd.open_workbook(Ruta)\n",
    "sheet = wb.sheet_by_index(0)"
   ]
  },
  {
   "cell_type": "code",
   "execution_count": 39,
   "id": "6632ee3b",
   "metadata": {},
   "outputs": [
    {
     "name": "stdout",
     "output_type": "stream",
     "text": [
      "rtretertre\n"
     ]
    }
   ],
   "source": [
    "print(sheet.cell_value(0, 0))"
   ]
  },
  {
   "cell_type": "code",
   "execution_count": 13,
   "id": "4118a7d7",
   "metadata": {},
   "outputs": [],
   "source": []
  },
  {
   "cell_type": "code",
   "execution_count": 52,
   "id": "da187870",
   "metadata": {},
   "outputs": [
    {
     "ename": "AttributeError",
     "evalue": "'Worksheet' object has no attribute 'getCells'",
     "output_type": "error",
     "traceback": [
      "\u001b[1;31m---------------------------------------------------------------------------\u001b[0m",
      "\u001b[1;31mAttributeError\u001b[0m                            Traceback (most recent call last)",
      "\u001b[1;32m<ipython-input-52-d2ba886d8b43>\u001b[0m in \u001b[0;36m<module>\u001b[1;34m\u001b[0m\n\u001b[0;32m     10\u001b[0m \u001b[0mwb\u001b[0m \u001b[1;33m=\u001b[0m \u001b[0mcopy\u001b[0m\u001b[1;33m(\u001b[0m\u001b[0mrb\u001b[0m\u001b[1;33m)\u001b[0m\u001b[1;33m\u001b[0m\u001b[1;33m\u001b[0m\u001b[0m\n\u001b[0;32m     11\u001b[0m \u001b[0mws\u001b[0m \u001b[1;33m=\u001b[0m \u001b[0mwb\u001b[0m\u001b[1;33m.\u001b[0m\u001b[0mget_sheet\u001b[0m\u001b[1;33m(\u001b[0m\u001b[1;36m0\u001b[0m\u001b[1;33m)\u001b[0m\u001b[1;33m\u001b[0m\u001b[1;33m\u001b[0m\u001b[0m\n\u001b[1;32m---> 12\u001b[1;33m \u001b[0mws\u001b[0m\u001b[1;33m.\u001b[0m\u001b[0mgetCells\u001b[0m\u001b[1;33m(\u001b[0m\u001b[1;33m)\u001b[0m\u001b[1;33m.\u001b[0m\u001b[0minsertRows\u001b[0m\u001b[1;33m(\u001b[0m\u001b[1;36m2\u001b[0m\u001b[1;33m,\u001b[0m\u001b[1;36m10\u001b[0m\u001b[1;33m)\u001b[0m\u001b[1;33m\u001b[0m\u001b[1;33m\u001b[0m\u001b[0m\n\u001b[0m\u001b[0;32m     13\u001b[0m \u001b[0mws\u001b[0m\u001b[1;33m.\u001b[0m\u001b[0mwrite\u001b[0m\u001b[1;33m(\u001b[0m\u001b[1;36m0\u001b[0m\u001b[1;33m,\u001b[0m\u001b[1;36m0\u001b[0m\u001b[1;33m,\u001b[0m\u001b[1;34m\"TITULO\"\u001b[0m\u001b[1;33m,\u001b[0m \u001b[0mstyle0\u001b[0m\u001b[1;33m)\u001b[0m\u001b[1;33m\u001b[0m\u001b[1;33m\u001b[0m\u001b[0m\n\u001b[0;32m     14\u001b[0m \u001b[0mwb\u001b[0m\u001b[1;33m.\u001b[0m\u001b[0msave\u001b[0m\u001b[1;33m(\u001b[0m\u001b[0mRutaSinNombre\u001b[0m \u001b[1;33m+\u001b[0m \u001b[1;34m\"//\"\u001b[0m \u001b[1;33m+\u001b[0m \u001b[1;34m\"archivo.xls\"\u001b[0m\u001b[1;33m)\u001b[0m\u001b[1;33m\u001b[0m\u001b[1;33m\u001b[0m\u001b[0m\n",
      "\u001b[1;31mAttributeError\u001b[0m: 'Worksheet' object has no attribute 'getCells'"
     ]
    }
   ],
   "source": [
    "from xlrd import open_workbook\n",
    "from xlutils.copy import copy\n",
    "import xlwt\n",
    "\n",
    "style0 = xlwt.easyxf('font: name Times New Roman, colour red, bold on')\n",
    "wb = xlwt.Workbook()\n",
    "wb = copy(rb)\n",
    "\n",
    "rb = open_workbook(Ruta,formatting_info=True)\n",
    "wb = copy(rb)\n",
    "ws = wb.get_sheet(0)\n",
    "\n",
    "ws.getCells().insertRows(2,10)\n",
    "ws.write(0,0,\"TITULO\", style0)\n",
    "wb.save(RutaSinNombre + \"//\" + \"archivo.xls\")\n"
   ]
  },
  {
   "cell_type": "code",
   "execution_count": 53,
   "id": "446d2c59",
   "metadata": {},
   "outputs": [],
   "source": [
    "from openpyxl import Workbook\n",
    "wb = Workbook()\n",
    "\n",
    "\n",
    "# grab the active worksheet\n",
    "ws = wb.active\n",
    "\n",
    "# Data can be assigned directly to cells\n",
    "ws['A1'] = 42\n",
    "\n",
    "# Rows can also be appended\n",
    "ws.append([1, 2, 3])\n",
    "\n",
    "# Python types will automatically be converted\n",
    "import datetime\n",
    "ws['A2'] = datetime.datetime.now()\n",
    "\n",
    "# Save the file\n",
    "wb.save(RutaSinNombre + \"//\" + \"archivo.xls\")"
   ]
  },
  {
   "cell_type": "code",
   "execution_count": 57,
   "id": "01a655ac",
   "metadata": {},
   "outputs": [
    {
     "ename": "NameError",
     "evalue": "name 'openpyxl' is not defined",
     "output_type": "error",
     "traceback": [
      "\u001b[1;31m---------------------------------------------------------------------------\u001b[0m",
      "\u001b[1;31mNameError\u001b[0m                                 Traceback (most recent call last)",
      "\u001b[1;32m<ipython-input-57-838d39b100bd>\u001b[0m in \u001b[0;36m<module>\u001b[1;34m\u001b[0m\n\u001b[0;32m      2\u001b[0m \u001b[1;32mfrom\u001b[0m \u001b[0mopenpyxl\u001b[0m\u001b[1;33m.\u001b[0m\u001b[0mutils\u001b[0m \u001b[1;32mimport\u001b[0m \u001b[0mget_column_letter\u001b[0m\u001b[1;33m\u001b[0m\u001b[1;33m\u001b[0m\u001b[0m\n\u001b[0;32m      3\u001b[0m \u001b[1;33m\u001b[0m\u001b[0m\n\u001b[1;32m----> 4\u001b[1;33m \u001b[0mwb\u001b[0m \u001b[1;33m=\u001b[0m \u001b[0mopenpyxl\u001b[0m\u001b[1;33m.\u001b[0m\u001b[0mload_workbook\u001b[0m\u001b[1;33m(\u001b[0m\u001b[0mRuta\u001b[0m\u001b[1;33m)\u001b[0m\u001b[1;33m\u001b[0m\u001b[1;33m\u001b[0m\u001b[0m\n\u001b[0m\u001b[0;32m      5\u001b[0m \u001b[1;33m\u001b[0m\u001b[0m\n\u001b[0;32m      6\u001b[0m \u001b[0mwb\u001b[0m \u001b[1;33m=\u001b[0m \u001b[0mWorkbook\u001b[0m\u001b[1;33m(\u001b[0m\u001b[1;33m)\u001b[0m\u001b[1;33m\u001b[0m\u001b[1;33m\u001b[0m\u001b[0m\n",
      "\u001b[1;31mNameError\u001b[0m: name 'openpyxl' is not defined"
     ]
    }
   ],
   "source": [
    "from openpyxl import Workbook\n",
    "from openpyxl.utils import get_column_letter\n",
    "\n",
    "wb = openpyxl.load_workbook(Ruta)\n",
    "\n",
    "wb = Workbook()\n",
    "ws1 = wb.active\n",
    "ws1.title = \"range names\"\n"
   ]
  },
  {
   "cell_type": "code",
   "execution_count": 4,
   "id": "2800ebcb",
   "metadata": {},
   "outputs": [],
   "source": [
    "from openpyxl.styles import colors\n",
    "from openpyxl.styles import Font, Color\n",
    "\n",
    "from openpyxl import load_workbook\n",
    "from openpyxl.formatting import Rule\n",
    "from openpyxl.styles import Font, PatternFill, Border\n",
    "\n",
    "wb = load_workbook(filename = RutaSinNombre + \"//Test con Python.xlsx\")\n",
    "\n",
    "sheet_ranges = wb['Sheet1']\n",
    "\n",
    "a1=sheet_ranges['A1']\n",
    "ft = Font(color=\"FF0000\")\n",
    "a1.font = ft\n",
    "\n",
    "wb.save(RutaSinNombre + \"//\" + \"archivo.xls\")"
   ]
  },
  {
   "cell_type": "code",
   "execution_count": null,
   "id": "daeaf88d",
   "metadata": {},
   "outputs": [],
   "source": []
  },
  {
   "cell_type": "code",
   "execution_count": null,
   "id": "8cd6b531",
   "metadata": {},
   "outputs": [],
   "source": []
  }
 ],
 "metadata": {
  "kernelspec": {
   "display_name": "Python 3",
   "language": "python",
   "name": "python3"
  },
  "language_info": {
   "codemirror_mode": {
    "name": "ipython",
    "version": 3
   },
   "file_extension": ".py",
   "mimetype": "text/x-python",
   "name": "python",
   "nbconvert_exporter": "python",
   "pygments_lexer": "ipython3",
   "version": "3.8.8"
  }
 },
 "nbformat": 4,
 "nbformat_minor": 5
}
