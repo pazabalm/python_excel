{
 "cells": [
  {
   "cell_type": "code",
   "execution_count": 138,
   "id": "a347b709",
   "metadata": {},
   "outputs": [
    {
     "name": "stdout",
     "output_type": "stream",
     "text": [
      "C://Users//pmuti//Desktop//BCI//000 Tests PM//Formato KNIME Python con Excel//Test con Python.xls\n"
     ]
    }
   ],
   "source": [
    "import os\n",
    "import pandas as pd\n",
    "from openpyxl.styles import colors, Font, Color, PatternFill, Border, Side, PatternFill, Font, GradientFill, Alignment\n",
    "from openpyxl import load_workbook\n",
    "from openpyxl.formatting import Rule\n",
    "\n",
    "Ruta=\"C://Users//pmu//Desktop//BC//000 Tests PM//Formato KNIME Python con Excel//Test con Python.xls\"\n",
    "RutaSinNombre=\"C://Users//pmu//Desktop//BC//000 Tests PM//Formato KNIME Python con Excel//\"\n",
    "pd.read_excel(Ruta, index_col=0)\n",
    "\n",
    "print (Ruta)\n",
    "\n",
    "wb = load_workbook(filename = RutaSinNombre + \"//Test con Python.xlsx\")\n",
    "ws = wb.active\n",
    "\n",
    "#sheet_ranges = wb['Sheet1']\n",
    "\n",
    "ws.insert_rows(1)\n",
    "ws.insert_rows(2)\n",
    "\n",
    "ws.cell(row=1, column=1).value = 'TITULO 1'\n",
    "ws.cell(row=2, column=1).value = 'Titulo 1.2'\n",
    "\n",
    "a1=sheet_ranges['A1']\n",
    "ft = Font(color=\"000000\", italic=False, size=14, bold=True)\n",
    "a1.fill = \"0000FFFF\"\n",
    "ft.name = \"Tahoma\"\n",
    "a1.font = ft\n",
    "\n",
    "a2=sheet_ranges['A2']\n",
    "ft2 = Font(color=\"000000\", italic=True, size=11)\n",
    "a2.font = ft2\n",
    "\n",
    "\n",
    "border_type = Side(border_style=\"thin\", color='0000FFFF')\n",
    "\n",
    "border      = Border(left=border_type,\n",
    "              right=border_type,\n",
    "              top=border_type,\n",
    "              bottom=border_type,\n",
    "              diagonal=border_type,\n",
    "              diagonal_direction=0,\n",
    "              outline=border_type,\n",
    "              vertical=border_type,\n",
    "              horizontal=border_type\n",
    ")\n",
    "\n",
    "for row in ws['A2:F2']:\n",
    "    for cell in row:\n",
    "        cell.border = border #A5:D6 range cell setting border\n",
    "\n",
    "\n",
    "#Sirve para combinar celdas\n",
    "#ws.merge_cells('B2:F4')\n",
    "#top_left_cell = ws['B2']\n",
    "\n",
    "wb.save(RutaSinNombre + \"//\" + \"archivo.xls\")"
   ]
  },
  {
   "cell_type": "code",
   "execution_count": null,
   "id": "b3bea535",
   "metadata": {},
   "outputs": [],
   "source": []
  }
 ],
 "metadata": {
  "kernelspec": {
   "display_name": "Python 3",
   "language": "python",
   "name": "python3"
  },
  "language_info": {
   "codemirror_mode": {
    "name": "ipython",
    "version": 3
   },
   "file_extension": ".py",
   "mimetype": "text/x-python",
   "name": "python",
   "nbconvert_exporter": "python",
   "pygments_lexer": "ipython3",
   "version": "3.8.8"
  }
 },
 "nbformat": 4,
 "nbformat_minor": 5
}
